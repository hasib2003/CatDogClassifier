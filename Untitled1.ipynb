{
  "cells": [
    {
      "cell_type": "code",
      "execution_count": null,
      "metadata": {
        "id": "lfdGTVO8kmP_"
      },
      "outputs": [],
      "source": [
        "import tensorflow as tf\n",
        "import numpy as np\n",
        "import matplotlib.pyplot as plt\n",
        "import cv2\n",
        "import time\n"
      ]
    },
    {
      "cell_type": "code",
      "execution_count": null,
      "metadata": {
        "id": "r0cMEnGaHHhI"
      },
      "outputs": [],
      "source": [
        "\n",
        "#hyper_paramters \n",
        "\n",
        "learning_rate = 0.00000001\n",
        "trainig_point = 175\n",
        "total_epochs = 15\n",
        "batch_size = 16"
      ]
    },
    {
      "cell_type": "code",
      "execution_count": null,
      "metadata": {
        "id": "FzhfXCUTN-bl"
      },
      "outputs": [],
      "source": [
        "def data_loader():\n",
        "  train_images = np.load(\"/content/drive/MyDrive/images_train.npy\")\n",
        "  test_images = np.load(\"/content/drive/MyDrive/images_test.npy\")\n",
        "  valid_images = np.load(\"/content/drive/MyDrive/images_valid.npy\")\n",
        "\n",
        "\n",
        "  train_labels = np.load(\"/content/drive/MyDrive/labels_train.npy\")\n",
        "  test_labels = np.load(\"/content/drive/MyDrive/labels_test.npy\")\n",
        "  valid_labels = np.load(\"/content/drive/MyDrive/labels_valid.npy\")\n",
        "\n",
        "\n",
        "\n",
        "  train_labels = labels_modifier(train_labels)\n",
        "\n",
        "\n",
        "\n",
        "  test_labels = labels_modifier(test_labels)\n",
        "\n",
        "  valid_labels = labels_modifier(valid_labels)\n",
        "\n",
        "  train_labels = np.array(train_labels)\n",
        "\n",
        "  valid_labels = np.array(valid_labels)\n",
        "\n",
        "  test_labels = np.array(test_labels)\n",
        "\n",
        "  print(train_images.shape)\n",
        "  print(train_labels.shape)\n",
        "  print(valid_labels.shape)\n",
        "\n",
        "  return train_images,train_labels,test_images,test_labels,valid_images,valid_labels\n"
      ]
    },
    {
      "cell_type": "code",
      "execution_count": null,
      "metadata": {
        "id": "XzUOmud-k40l"
      },
      "outputs": [],
      "source": [
        "base_model = tf.keras.applications.InceptionV3(input_shape = (160,160,3) ,include_top=False,\n",
        "                                               weights='imagenet')\n"
      ]
    },
    {
      "cell_type": "code",
      "execution_count": null,
      "metadata": {
        "colab": {
          "base_uri": "https://localhost:8080/"
        },
        "id": "RuXM4W1TXS8a",
        "outputId": "ec9e1972-b60d-4bc8-c877-107a2886a078"
      },
      "outputs": [
        {
          "output_type": "stream",
          "name": "stdout",
          "text": [
            "311\n"
          ]
        }
      ],
      "source": [
        "total_layers = len(base_model.layers)\n",
        "print(total_layers)"
      ]
    },
    {
      "cell_type": "code",
      "execution_count": null,
      "metadata": {
        "id": "xNAtfceJFLtM"
      },
      "outputs": [],
      "source": [
        "def augmentor():\n",
        "\n",
        "    data_augmentation = tf.keras.Sequential()\n",
        "    data_augmentation.add(tf.keras.layers.RandomContrast(0.8))\n",
        "    data_augmentation.add(tf.keras.layers.RandomZoom(0.7))\n",
        "    # data_augmentation.add(tf.keras.layers.RandomBrightness(0.7,(1,100)))\n",
        "    data_augmentation.add(tf.keras.layers.RandomZoom(0.3))\n",
        "    data_augmentation.add(tf.keras.layers.RandomRotation(0.8))\n",
        "    \n",
        "    return data_augmentation"
      ]
    },
    {
      "cell_type": "code",
      "execution_count": null,
      "metadata": {
        "id": "YAMIrJiDHXTB"
      },
      "outputs": [],
      "source": [
        "def labels_modifier(label_list):\n",
        "  extended_list = []\n",
        "  for i in range(len(label_list)):\n",
        "    temp = []\n",
        "    if label_list[i] == 1:\n",
        "      temp = [1,0]\n",
        "    else:\n",
        "      temp = [0,1]\n",
        "    extended_list.append(temp)\n",
        "    \n",
        "  return extended_list"
      ]
    },
    {
      "cell_type": "code",
      "execution_count": null,
      "metadata": {
        "id": "RRoTJyjXGglH"
      },
      "outputs": [],
      "source": [
        "## definig the structure of the model\n",
        "base_model.trainable = True\n",
        "\n",
        "for layer in base_model.layers[:trainig_point]:\n",
        "  layer.trainable = False\n",
        "\n",
        "inputs = tf.keras.Input(shape=(160,160,3))\n",
        "augmentation_model = augmentor()\n",
        "\n",
        "\n",
        "\n",
        "x = augmentation_model(inputs)\n",
        "\n",
        "\n",
        "x = tf.keras.applications.inception_v3.preprocess_input(x) \n",
        "\n",
        "\n",
        "x = base_model(x, training=False) \n",
        "\n",
        "x = tf.keras.layers.GlobalAveragePooling2D()(x) \n",
        "x = tf.keras.layers.Dropout(0.7)(x)\n",
        "x = tf.keras.layers.Dense(1024,activation = 'relu')(x)\n",
        "x = tf.keras.layers.Dropout(0.8)(x)\n",
        "\n",
        "x = tf.keras.layers.Dense(512,activation='relu')(x)\n",
        "\n",
        "output = tf.keras.layers.Dense(2,activation = 'softmax')(x)        \n",
        "\n",
        "trained_model = tf.keras.Model(inputs, output)\n",
        "  "
      ]
    },
    {
      "cell_type": "code",
      "execution_count": null,
      "metadata": {
        "colab": {
          "base_uri": "https://localhost:8080/"
        },
        "id": "Do3x8AEiWopA",
        "outputId": "8cec1a16-981d-4f0f-aaac-e9f7965709a9"
      },
      "outputs": [
        {
          "output_type": "stream",
          "name": "stdout",
          "text": [
            "(600, 160, 160, 3)\n",
            "(600, 2)\n",
            "(300, 2)\n"
          ]
        }
      ],
      "source": [
        "#loading the data\n",
        "\n",
        "train_images,train_labels,test_images,test_labels,valid_images,valid_labels = data_loader()\n",
        "train_data = (train_images,train_labels)\n",
        "\n",
        "\n",
        "validation_data = (valid_images,valid_labels)"
      ]
    },
    {
      "cell_type": "code",
      "execution_count": null,
      "metadata": {
        "id": "ic2IakUqXu8I"
      },
      "outputs": [],
      "source": []
    },
    {
      "cell_type": "code",
      "execution_count": null,
      "metadata": {
        "id": "6AvxyFzIKlE5"
      },
      "outputs": [],
      "source": [
        "##compiling and fiting the model\n",
        "\n",
        "trained_model.compile(optimizer=tf.keras.optimizers.Adam(learning_rate=learning_rate),\n",
        "              loss=tf.keras.losses.CategoricalCrossentropy(\n",
        "              from_logits=False),\n",
        "              metrics=['accuracy'])\n",
        "\n",
        "\n",
        "\n"
      ]
    },
    {
      "cell_type": "code",
      "execution_count": null,
      "metadata": {
        "colab": {
          "base_uri": "https://localhost:8080/"
        },
        "id": "RoUNVrgChBBf",
        "outputId": "4baaeb63-8a90-4276-f0e4-8a65dfe9dd4f"
      },
      "outputs": [
        {
          "output_type": "stream",
          "name": "stdout",
          "text": [
            "Model: \"model_2\"\n",
            "_________________________________________________________________\n",
            " Layer (type)                Output Shape              Param #   \n",
            "=================================================================\n",
            " input_5 (InputLayer)        [(None, 160, 160, 3)]     0         \n",
            "                                                                 \n",
            " sequential_2 (Sequential)   (None, 160, 160, 3)       0         \n",
            "                                                                 \n",
            " tf.math.truediv_2 (TFOpLamb  (None, 160, 160, 3)      0         \n",
            " da)                                                             \n",
            "                                                                 \n",
            " tf.math.subtract_2 (TFOpLam  (None, 160, 160, 3)      0         \n",
            " bda)                                                            \n",
            "                                                                 \n",
            " inception_v3 (Functional)   (None, 3, 3, 2048)        21802784  \n",
            "                                                                 \n",
            " global_average_pooling2d_2   (None, 2048)             0         \n",
            " (GlobalAveragePooling2D)                                        \n",
            "                                                                 \n",
            " dropout_4 (Dropout)         (None, 2048)              0         \n",
            "                                                                 \n",
            " dense_6 (Dense)             (None, 1024)              2098176   \n",
            "                                                                 \n",
            " dropout_5 (Dropout)         (None, 1024)              0         \n",
            "                                                                 \n",
            " dense_7 (Dense)             (None, 512)               524800    \n",
            "                                                                 \n",
            " dense_8 (Dense)             (None, 2)                 1026      \n",
            "                                                                 \n",
            "=================================================================\n",
            "Total params: 24,426,786\n",
            "Trainable params: 18,660,418\n",
            "Non-trainable params: 5,766,368\n",
            "_________________________________________________________________\n"
          ]
        }
      ],
      "source": [
        "trained_model.summary()"
      ]
    },
    {
      "cell_type": "code",
      "execution_count": null,
      "metadata": {
        "colab": {
          "base_uri": "https://localhost:8080/"
        },
        "id": "z7m8H01pemZy",
        "outputId": "569e1b67-0961-4e61-86f5-e840e6c41c3b"
      },
      "outputs": [
        {
          "output_type": "stream",
          "name": "stdout",
          "text": [
            "Epoch 1/15\n",
            "38/38 [==============================] - 96s 2s/step - loss: 0.2906 - accuracy: 0.8700 - val_loss: 0.1068 - val_accuracy: 0.9633\n",
            "Epoch 2/15\n",
            "38/38 [==============================] - 86s 2s/step - loss: 0.2699 - accuracy: 0.8867 - val_loss: 0.1066 - val_accuracy: 0.9600\n",
            "Epoch 3/15\n",
            "38/38 [==============================] - 87s 2s/step - loss: 0.2528 - accuracy: 0.9100 - val_loss: 0.1065 - val_accuracy: 0.9600\n",
            "Epoch 4/15\n",
            "38/38 [==============================] - 86s 2s/step - loss: 0.2573 - accuracy: 0.8950 - val_loss: 0.1064 - val_accuracy: 0.9600\n",
            "Epoch 5/15\n",
            "38/38 [==============================] - 87s 2s/step - loss: 0.2733 - accuracy: 0.8750 - val_loss: 0.1062 - val_accuracy: 0.9600\n",
            "Epoch 6/15\n",
            "38/38 [==============================] - 87s 2s/step - loss: 0.2323 - accuracy: 0.9033 - val_loss: 0.1061 - val_accuracy: 0.9600\n",
            "Epoch 7/15\n",
            "38/38 [==============================] - 85s 2s/step - loss: 0.2445 - accuracy: 0.8967 - val_loss: 0.1059 - val_accuracy: 0.9600\n",
            "Epoch 8/15\n",
            "38/38 [==============================] - 88s 2s/step - loss: 0.2798 - accuracy: 0.8900 - val_loss: 0.1057 - val_accuracy: 0.9600\n",
            "Epoch 9/15\n",
            "38/38 [==============================] - 85s 2s/step - loss: 0.2574 - accuracy: 0.8750 - val_loss: 0.1056 - val_accuracy: 0.9600\n",
            "Epoch 10/15\n",
            "38/38 [==============================] - 87s 2s/step - loss: 0.2624 - accuracy: 0.8717 - val_loss: 0.1054 - val_accuracy: 0.9600\n",
            "Epoch 11/15\n",
            "38/38 [==============================] - 87s 2s/step - loss: 0.2385 - accuracy: 0.8933 - val_loss: 0.1053 - val_accuracy: 0.9600\n",
            "Epoch 12/15\n",
            "38/38 [==============================] - 85s 2s/step - loss: 0.2534 - accuracy: 0.8900 - val_loss: 0.1051 - val_accuracy: 0.9600\n",
            "Epoch 13/15\n",
            "38/38 [==============================] - 87s 2s/step - loss: 0.2407 - accuracy: 0.8800 - val_loss: 0.1050 - val_accuracy: 0.9600\n",
            "Epoch 14/15\n",
            "38/38 [==============================] - 85s 2s/step - loss: 0.2598 - accuracy: 0.8783 - val_loss: 0.1049 - val_accuracy: 0.9600\n",
            "Epoch 15/15\n",
            "38/38 [==============================] - 86s 2s/step - loss: 0.2570 - accuracy: 0.8867 - val_loss: 0.1048 - val_accuracy: 0.9600\n"
          ]
        }
      ],
      "source": [
        "history = trained_model.fit(train_images,train_labels, validation_data=validation_data, epochs = total_epochs,batch_size = batch_size)"
      ]
    },
    {
      "cell_type": "code",
      "execution_count": null,
      "metadata": {
        "colab": {
          "base_uri": "https://localhost:8080/",
          "height": 513
        },
        "id": "emTWsjNtjHDI",
        "outputId": "33971979-15cc-43ac-b833-525de1051e03"
      },
      "outputs": [
        {
          "output_type": "display_data",
          "data": {
            "text/plain": [
              "<Figure size 576x576 with 2 Axes>"
            ],
            "image/png": "[encoded data removed]"
          },
          "metadata": {
            "needs_background": "light"
          }
        }
      ],
      "source": [
        "acc = [0.] + history.history['accuracy']\n",
        "val_acc = [0.] + history.history['val_accuracy']\n",
        "\n",
        "loss = history.history['loss']\n",
        "val_loss = history.history['val_loss']\n",
        "\n",
        "plt.figure(figsize=(8, 8))\n",
        "plt.subplot(2, 1, 1)\n",
        "plt.plot(acc, label='Training Accuracy')\n",
        "plt.plot(val_acc, label='Validation Accuracy')\n",
        "plt.legend(loc='lower right')\n",
        "plt.ylabel('Accuracy')\n",
        "plt.ylim([min(plt.ylim()),1])\n",
        "plt.title('Training and Validation Accuracy')\n",
        "\n",
        "plt.subplot(2, 1, 2)\n",
        "plt.plot(loss, label='Training Loss')\n",
        "plt.plot(val_loss, label='Validation Loss')\n",
        "plt.legend(loc='upper right')\n",
        "plt.ylabel('Cross Entropy')\n",
        "plt.ylim([0,1.0])\n",
        "plt.title('Training and Validation Loss')\n",
        "plt.xlabel('epoch')\n",
        "plt.show()"
      ]
    },
    {
      "cell_type": "code",
      "execution_count": null,
      "metadata": {
        "id": "JrY9fCRMlKYM",
        "colab": {
          "base_uri": "https://localhost:8080/"
        },
        "outputId": "8e5b0dd5-d09a-46b7-d808-0729794c0c40"
      },
      "outputs": [
        {
          "output_type": "stream",
          "name": "stdout",
          "text": [
            "total error is 4.0\n",
            "inference time is 0.13727084080378216\n"
          ]
        }
      ],
      "source": [
        "err = 0\n",
        "faulty_index = []\n",
        "total = test_labels.shape[0]\n",
        "time_ = 0\n",
        "for i in range(total):\n",
        "  x = test_images[i]\n",
        "  # plt.imshow(x)\n",
        "  start = time.time()\n",
        "  x = x.reshape(1,160,160,3)\n",
        "  pred = trained_model.predict(x)\n",
        "  end = time.time()\n",
        "  y = test_labels[i]\n",
        "\n",
        "\n",
        "  time_ += end - start\n",
        "\n",
        "\n",
        "  if pred[0][0]< 0.5:\n",
        "    y_hat = \"dog\"\n",
        "  else:\n",
        "    y_hat = \"cat\"\n",
        "0-\n",
        "  if y[0] == 0:\n",
        "    y = \"dog\"\n",
        "  else:\n",
        "    y = \"cat\"\n",
        "\n",
        "  if y_hat == y:\n",
        "    pass\n",
        "  else:\n",
        "    err +=1\n",
        "\n",
        "  # plt.xlabel(f\"prediction = {y_hat}\")\n",
        "  # plt.ylabel(f\"ground truth = {y}\")\n",
        "  # plt.show()\n",
        "\n",
        "print(f\"total error is {err*100/total }\")\n",
        "print(f\"inference time is {time_/total }\")"
      ]
    },
    {
      "cell_type": "code",
      "source": [
        "weights = trained_model.weights\n",
        "weights = np.array(weights)"
      ],
      "metadata": {
        "id": "_a38Dn9dE17U"
      },
      "execution_count": null,
      "outputs": []
    },
    {
      "cell_type": "code",
      "source": [
        "np.save(\"/content/drive/MyDrive/inception_V_3_20epochs_unkn.npy\",weights)"
      ],
      "metadata": {
        "id": "C7Yv45kcFDIz"
      },
      "execution_count": null,
      "outputs": []
    }
  ],
  "metadata": {
    "colab": {
      "provenance": []
    },
    "kernelspec": {
      "display_name": "Python 3",
      "name": "python3"
    },
    "language_info": {
      "name": "python"
    }
  },
  "nbformat": 4,
  "nbformat_minor": 0
}